{
 "nbformat": 4,
 "nbformat_minor": 0,
 "metadata": {
  "colab": {
   "name": "visualize-data.ipynb",
   "provenance": [],
   "collapsed_sections": [],
   "authorship_tag": "ABX9TyMn/a1ONn3Sa7uAvJKP0hvn"
  },
  "kernelspec": {
   "name": "python3",
   "display_name": "Python 3"
  },
  "language_info": {
   "name": "python"
  }
 },
 "cells": [
  {
   "cell_type": "code",
   "source": [
    "# from google.colab import drive\n",
    "# drive.mount('/content/drive')"
   ],
   "metadata": {
    "colab": {
     "base_uri": "https://localhost:8080/"
    },
    "id": "BLN6Efg-HAYA",
    "executionInfo": {
     "status": "ok",
     "timestamp": 1641649945223,
     "user_tz": -420,
     "elapsed": 2682,
     "user": {
      "displayName": "Thọ Trần",
      "photoUrl": "https://lh3.googleusercontent.com/a/default-user=s64",
      "userId": "09309455569270955237"
     }
    },
    "outputId": "e2c05ff2-7982-4154-cdf0-6bd62bfdf9fa"
   },
   "execution_count": 36,
   "outputs": [
    {
     "output_type": "stream",
     "name": "stdout",
     "text": [
      "Drive already mounted at /content/drive; to attempt to forcibly remount, call drive.mount(\"/content/drive\", force_remount=True).\n"
     ]
    }
   ]
  },
  {
   "cell_type": "code",
   "source": [
    "#khai báo thư viện cần thiết\n",
    "import numpy as np\n",
    "import pandas as pd\n",
    "import matplotlib.pyplot as plt\n",
    "import seaborn as sns\n",
    "sns.set_style('darkgrid')\n",
    "%matplotlib inline\n",
    "from IPython.display import clear_output"
   ],
   "metadata": {
    "id": "qC8KiwnrHCOv",
    "executionInfo": {
     "status": "ok",
     "timestamp": 1641649945224,
     "user_tz": -420,
     "elapsed": 30,
     "user": {
      "displayName": "Thọ Trần",
      "photoUrl": "https://lh3.googleusercontent.com/a/default-user=s64",
      "userId": "09309455569270955237"
     }
    }
   },
   "execution_count": 37,
   "outputs": []
  },
  {
   "cell_type": "code",
   "source": [
    "data = pd.read_csv('./final_data.csv',encoding='latin-1') # đọc data\n",
    "data #đọc data"
   ],
   "metadata": {
    "colab": {
     "base_uri": "https://localhost:8080/",
     "height": 1000
    },
    "id": "vMHpi3xVHLlh",
    "executionInfo": {
     "status": "ok",
     "timestamp": 1641649945225,
     "user_tz": -420,
     "elapsed": 31,
     "user": {
      "displayName": "Thọ Trần",
      "photoUrl": "https://lh3.googleusercontent.com/a/default-user=s64",
      "userId": "09309455569270955237"
     }
    },
    "outputId": "134caddf-feb5-4bf1-f89e-b7fa2c60cfad"
   },
   "execution_count": 38,
   "outputs": [
    {
     "output_type": "execute_result",
     "data": {
      "text/html": [
       "\n",
       "  <div id=\"df-47319893-c961-4788-87eb-50195f9d83a3\">\n",
       "    <div class=\"colab-df-container\">\n",
       "      <div>\n",
       "<style scoped>\n",
       "    .dataframe tbody tr th:only-of-type {\n",
       "        vertical-align: middle;\n",
       "    }\n",
       "\n",
       "    .dataframe tbody tr th {\n",
       "        vertical-align: top;\n",
       "    }\n",
       "\n",
       "    .dataframe thead th {\n",
       "        text-align: right;\n",
       "    }\n",
       "</style>\n",
       "<table border=\"1\" class=\"dataframe\">\n",
       "  <thead>\n",
       "    <tr style=\"text-align: right;\">\n",
       "      <th></th>\n",
       "      <th>Name</th>\n",
       "      <th>Producer</th>\n",
       "      <th>CPU</th>\n",
       "      <th>Ram</th>\n",
       "      <th>Type disk</th>\n",
       "      <th>Capacity</th>\n",
       "      <th>Type GPU</th>\n",
       "      <th>VRAM</th>\n",
       "      <th>Size Display</th>\n",
       "      <th>Relu Display</th>\n",
       "      <th>Price</th>\n",
       "    </tr>\n",
       "  </thead>\n",
       "  <tbody>\n",
       "    <tr>\n",
       "      <th>0</th>\n",
       "      <td>laptop acer gaming nitro 5 eagle an515-57-720a...</td>\n",
       "      <td>acer</td>\n",
       "      <td>I7</td>\n",
       "      <td>8</td>\n",
       "      <td>1</td>\n",
       "      <td>512</td>\n",
       "      <td>1</td>\n",
       "      <td>4.0</td>\n",
       "      <td>15.6</td>\n",
       "      <td>1920x1080</td>\n",
       "      <td>29740000</td>\n",
       "    </tr>\n",
       "    <tr>\n",
       "      <th>1</th>\n",
       "      <td>laptop lg gram 2021 16z90p-g.ah73a5 (core i7-1...</td>\n",
       "      <td>lg</td>\n",
       "      <td>I7</td>\n",
       "      <td>16</td>\n",
       "      <td>1</td>\n",
       "      <td>256</td>\n",
       "      <td>0</td>\n",
       "      <td>0.0</td>\n",
       "      <td>16.0</td>\n",
       "      <td>2560x1600</td>\n",
       "      <td>46490000</td>\n",
       "    </tr>\n",
       "    <tr>\n",
       "      <th>2</th>\n",
       "      <td>laptop asus rog strix g15 g513ic-hn002t (ryzen...</td>\n",
       "      <td>asus</td>\n",
       "      <td>R7</td>\n",
       "      <td>8</td>\n",
       "      <td>1</td>\n",
       "      <td>512</td>\n",
       "      <td>1</td>\n",
       "      <td>4.0</td>\n",
       "      <td>15.6</td>\n",
       "      <td>1920x1080</td>\n",
       "      <td>27240000</td>\n",
       "    </tr>\n",
       "    <tr>\n",
       "      <th>3</th>\n",
       "      <td>laptop lenovo v15 g2 itl 82kb00chvn (core i5-...</td>\n",
       "      <td>lenovo</td>\n",
       "      <td>I5</td>\n",
       "      <td>8</td>\n",
       "      <td>1</td>\n",
       "      <td>256</td>\n",
       "      <td>0</td>\n",
       "      <td>0.0</td>\n",
       "      <td>15.6</td>\n",
       "      <td>1920x1080</td>\n",
       "      <td>17444500</td>\n",
       "    </tr>\n",
       "    <tr>\n",
       "      <th>4</th>\n",
       "      <td>laptop asus tuf gaming a15 fa506qm-hn016t (ryz...</td>\n",
       "      <td>asus</td>\n",
       "      <td>R7</td>\n",
       "      <td>16</td>\n",
       "      <td>1</td>\n",
       "      <td>512</td>\n",
       "      <td>1</td>\n",
       "      <td>6.0</td>\n",
       "      <td>15.6</td>\n",
       "      <td>1920x1080</td>\n",
       "      <td>32340000</td>\n",
       "    </tr>\n",
       "    <tr>\n",
       "      <th>...</th>\n",
       "      <td>...</td>\n",
       "      <td>...</td>\n",
       "      <td>...</td>\n",
       "      <td>...</td>\n",
       "      <td>...</td>\n",
       "      <td>...</td>\n",
       "      <td>...</td>\n",
       "      <td>...</td>\n",
       "      <td>...</td>\n",
       "      <td>...</td>\n",
       "      <td>...</td>\n",
       "    </tr>\n",
       "    <tr>\n",
       "      <th>1183</th>\n",
       "      <td>laptop asus ux482ea-ka274t 90nb0s41-m05030 ( 1...</td>\n",
       "      <td>asus</td>\n",
       "      <td>I5</td>\n",
       "      <td>8</td>\n",
       "      <td>1</td>\n",
       "      <td>512</td>\n",
       "      <td>0</td>\n",
       "      <td>0.0</td>\n",
       "      <td>13.3</td>\n",
       "      <td>2560x1600</td>\n",
       "      <td>32990000</td>\n",
       "    </tr>\n",
       "    <tr>\n",
       "      <th>1184</th>\n",
       "      <td>laptop asus ux482ea-ka268t 90nb0s41-m05040 ( 1...</td>\n",
       "      <td>asus</td>\n",
       "      <td>I7</td>\n",
       "      <td>16</td>\n",
       "      <td>1</td>\n",
       "      <td>1024</td>\n",
       "      <td>0</td>\n",
       "      <td>0.0</td>\n",
       "      <td>13.3</td>\n",
       "      <td>2560x1600</td>\n",
       "      <td>39990000</td>\n",
       "    </tr>\n",
       "    <tr>\n",
       "      <th>1185</th>\n",
       "      <td>laptop dell alienware m15 ryzen edition r5 702...</td>\n",
       "      <td>dell</td>\n",
       "      <td>R9</td>\n",
       "      <td>16</td>\n",
       "      <td>1</td>\n",
       "      <td>1024</td>\n",
       "      <td>0</td>\n",
       "      <td>0.0</td>\n",
       "      <td>13.3</td>\n",
       "      <td>2560x1600</td>\n",
       "      <td>57990000</td>\n",
       "    </tr>\n",
       "    <tr>\n",
       "      <th>1186</th>\n",
       "      <td>laptop dell alienware m15 r6 70262923 ( 15.6\" ...</td>\n",
       "      <td>dell</td>\n",
       "      <td>I7</td>\n",
       "      <td>32</td>\n",
       "      <td>1</td>\n",
       "      <td>1024</td>\n",
       "      <td>0</td>\n",
       "      <td>0.0</td>\n",
       "      <td>13.3</td>\n",
       "      <td>2560x1600</td>\n",
       "      <td>65490000</td>\n",
       "    </tr>\n",
       "    <tr>\n",
       "      <th>1187</th>\n",
       "      <td>laptop acer nitro 5 an515-57-56s5 nh.qeksv.001...</td>\n",
       "      <td>acer</td>\n",
       "      <td>I5</td>\n",
       "      <td>8</td>\n",
       "      <td>1</td>\n",
       "      <td>512</td>\n",
       "      <td>0</td>\n",
       "      <td>0.0</td>\n",
       "      <td>13.3</td>\n",
       "      <td>2560x1600</td>\n",
       "      <td>23490000</td>\n",
       "    </tr>\n",
       "  </tbody>\n",
       "</table>\n",
       "<p>1188 rows × 11 columns</p>\n",
       "</div>\n",
       "      <button class=\"colab-df-convert\" onclick=\"convertToInteractive('df-47319893-c961-4788-87eb-50195f9d83a3')\"\n",
       "              title=\"Convert this dataframe to an interactive table.\"\n",
       "              style=\"display:none;\">\n",
       "        \n",
       "  <svg xmlns=\"http://www.w3.org/2000/svg\" height=\"24px\"viewBox=\"0 0 24 24\"\n",
       "       width=\"24px\">\n",
       "    <path d=\"M0 0h24v24H0V0z\" fill=\"none\"/>\n",
       "    <path d=\"M18.56 5.44l.94 2.06.94-2.06 2.06-.94-2.06-.94-.94-2.06-.94 2.06-2.06.94zm-11 1L8.5 8.5l.94-2.06 2.06-.94-2.06-.94L8.5 2.5l-.94 2.06-2.06.94zm10 10l.94 2.06.94-2.06 2.06-.94-2.06-.94-.94-2.06-.94 2.06-2.06.94z\"/><path d=\"M17.41 7.96l-1.37-1.37c-.4-.4-.92-.59-1.43-.59-.52 0-1.04.2-1.43.59L10.3 9.45l-7.72 7.72c-.78.78-.78 2.05 0 2.83L4 21.41c.39.39.9.59 1.41.59.51 0 1.02-.2 1.41-.59l7.78-7.78 2.81-2.81c.8-.78.8-2.07 0-2.86zM5.41 20L4 18.59l7.72-7.72 1.47 1.35L5.41 20z\"/>\n",
       "  </svg>\n",
       "      </button>\n",
       "      \n",
       "  <style>\n",
       "    .colab-df-container {\n",
       "      display:flex;\n",
       "      flex-wrap:wrap;\n",
       "      gap: 12px;\n",
       "    }\n",
       "\n",
       "    .colab-df-convert {\n",
       "      background-color: #E8F0FE;\n",
       "      border: none;\n",
       "      border-radius: 50%;\n",
       "      cursor: pointer;\n",
       "      display: none;\n",
       "      fill: #1967D2;\n",
       "      height: 32px;\n",
       "      padding: 0 0 0 0;\n",
       "      width: 32px;\n",
       "    }\n",
       "\n",
       "    .colab-df-convert:hover {\n",
       "      background-color: #E2EBFA;\n",
       "      box-shadow: 0px 1px 2px rgba(60, 64, 67, 0.3), 0px 1px 3px 1px rgba(60, 64, 67, 0.15);\n",
       "      fill: #174EA6;\n",
       "    }\n",
       "\n",
       "    [theme=dark] .colab-df-convert {\n",
       "      background-color: #3B4455;\n",
       "      fill: #D2E3FC;\n",
       "    }\n",
       "\n",
       "    [theme=dark] .colab-df-convert:hover {\n",
       "      background-color: #434B5C;\n",
       "      box-shadow: 0px 1px 3px 1px rgba(0, 0, 0, 0.15);\n",
       "      filter: drop-shadow(0px 1px 2px rgba(0, 0, 0, 0.3));\n",
       "      fill: #FFFFFF;\n",
       "    }\n",
       "  </style>\n",
       "\n",
       "      <script>\n",
       "        const buttonEl =\n",
       "          document.querySelector('#df-47319893-c961-4788-87eb-50195f9d83a3 button.colab-df-convert');\n",
       "        buttonEl.style.display =\n",
       "          google.colab.kernel.accessAllowed ? 'block' : 'none';\n",
       "\n",
       "        async function convertToInteractive(key) {\n",
       "          const element = document.querySelector('#df-47319893-c961-4788-87eb-50195f9d83a3');\n",
       "          const dataTable =\n",
       "            await google.colab.kernel.invokeFunction('convertToInteractive',\n",
       "                                                     [key], {});\n",
       "          if (!dataTable) return;\n",
       "\n",
       "          const docLinkHtml = 'Like what you see? Visit the ' +\n",
       "            '<a target=\"_blank\" href=https://colab.research.google.com/notebooks/data_table.ipynb>data table notebook</a>'\n",
       "            + ' to learn more about interactive tables.';\n",
       "          element.innerHTML = '';\n",
       "          dataTable['output_type'] = 'display_data';\n",
       "          await google.colab.output.renderOutput(dataTable, element);\n",
       "          const docLink = document.createElement('div');\n",
       "          docLink.innerHTML = docLinkHtml;\n",
       "          element.appendChild(docLink);\n",
       "        }\n",
       "      </script>\n",
       "    </div>\n",
       "  </div>\n",
       "  "
      ],
      "text/plain": [
       "                                                   Name  ...     Price\n",
       "0     laptop acer gaming nitro 5 eagle an515-57-720a...  ...  29740000\n",
       "1     laptop lg gram 2021 16z90p-g.ah73a5 (core i7-1...  ...  46490000\n",
       "2     laptop asus rog strix g15 g513ic-hn002t (ryzen...  ...  27240000\n",
       "3     laptop lenovo v15 g2 itl 82kb00chvn (core i5-...  ...  17444500\n",
       "4     laptop asus tuf gaming a15 fa506qm-hn016t (ryz...  ...  32340000\n",
       "...                                                 ...  ...       ...\n",
       "1183  laptop asus ux482ea-ka274t 90nb0s41-m05030 ( 1...  ...  32990000\n",
       "1184  laptop asus ux482ea-ka268t 90nb0s41-m05040 ( 1...  ...  39990000\n",
       "1185  laptop dell alienware m15 ryzen edition r5 702...  ...  57990000\n",
       "1186  laptop dell alienware m15 r6 70262923 ( 15.6\" ...  ...  65490000\n",
       "1187  laptop acer nitro 5 an515-57-56s5 nh.qeksv.001...  ...  23490000\n",
       "\n",
       "[1188 rows x 11 columns]"
      ]
     },
     "metadata": {},
     "execution_count": 38
    }
   ]
  },
  {
   "cell_type": "markdown",
   "source": [
    "TIỀN XỬ LÍ"
   ],
   "metadata": {
    "id": "51t8BLFvKKDY"
   }
  },
  {
   "cell_type": "code",
   "source": [
    "data.isnull().sum() # check data rỗng"
   ],
   "metadata": {
    "colab": {
     "base_uri": "https://localhost:8080/"
    },
    "id": "9FRX5XA4HOcP",
    "executionInfo": {
     "status": "ok",
     "timestamp": 1641649945225,
     "user_tz": -420,
     "elapsed": 29,
     "user": {
      "displayName": "Thọ Trần",
      "photoUrl": "https://lh3.googleusercontent.com/a/default-user=s64",
      "userId": "09309455569270955237"
     }
    },
    "outputId": "1422c6f2-5aef-4312-8f88-54f27b38fbaf"
   },
   "execution_count": 39,
   "outputs": [
    {
     "output_type": "execute_result",
     "data": {
      "text/plain": [
       "Name            0\n",
       "Producer        3\n",
       "CPU             0\n",
       "Ram             0\n",
       "Type disk       0\n",
       "Capacity        0\n",
       "Type GPU        0\n",
       "VRAM            6\n",
       "Size Display    1\n",
       "Relu Display    0\n",
       "Price           0\n",
       "dtype: int64"
      ]
     },
     "metadata": {},
     "execution_count": 39
    }
   ]
  },
  {
   "cell_type": "code",
   "source": [
    "data= data.dropna() # do data bị missing value đủ bé nên bỏ qua các trường bị thiếu"
   ],
   "metadata": {
    "id": "_QaDS00IHTE3",
    "executionInfo": {
     "status": "ok",
     "timestamp": 1641649945226,
     "user_tz": -420,
     "elapsed": 27,
     "user": {
      "displayName": "Thọ Trần",
      "photoUrl": "https://lh3.googleusercontent.com/a/default-user=s64",
      "userId": "09309455569270955237"
     }
    }
   },
   "execution_count": 40,
   "outputs": []
  },
  {
   "cell_type": "code",
   "source": [
    "def findXresolution(s):\n",
    "  return s.split()[-1].split(\"x\")[0]\n",
    "def findYresolution(s):\n",
    "  return s.split()[-1].split(\"x\")[1]\n",
    "def return0():\n",
    "  return 0\n",
    "#finding the x_res and y_res from screen resolution\n",
    "data['X_res'] = data['Relu Display'].apply(lambda x: findXresolution(x))\n",
    "data['Y_res'] = data['Relu Display'].apply(lambda y: findYresolution(y))\n",
    "#convert to numeric\n",
    "data['X_res'] = data['X_res'].astype('int')\n",
    "data['Y_res'] = data['Y_res'].astype('int')\n",
    "# data['hdd']= data['Relu Display'].apply(lambda hdd: return0())\n",
    "# data['ssd']= data['Relu Display'].apply(lambda ssd: return0())\n",
    "clear_output()"
   ],
   "metadata": {
    "id": "YO9KplX9HVs_",
    "executionInfo": {
     "status": "ok",
     "timestamp": 1641649945226,
     "user_tz": -420,
     "elapsed": 27,
     "user": {
      "displayName": "Thọ Trần",
      "photoUrl": "https://lh3.googleusercontent.com/a/default-user=s64",
      "userId": "09309455569270955237"
     }
    }
   },
   "execution_count": 41,
   "outputs": []
  },
  {
   "cell_type": "code",
   "source": [
    "Typedisk = [x for x in data['Type disk']]\n",
    "Capacity_disk = [x for x in data['Capacity']]\n",
    "def convert_disk(type_disk, capacity_disk):\n",
    "    SSD = []\n",
    "    HDD = []\n",
    "    for i in range(0, len(type_disk)):\n",
    "        if type_disk[i] == 1:\n",
    "            SSD.append(capacity_disk[i])\n",
    "            HDD.append(0)\n",
    "        else:\n",
    "            HDD.append(capacity_disk[i])\n",
    "            SSD.append(0)\n",
    "    return SSD, HDD\n",
    "ssd,hdd=convert_disk(Typedisk, Capacity_disk)\n",
    "data['ssd']=ssd\n",
    "data['hdd']=hdd\n",
    "clear_output()"
   ],
   "metadata": {
    "id": "mRCEMZJZHZ--",
    "executionInfo": {
     "status": "ok",
     "timestamp": 1641649945227,
     "user_tz": -420,
     "elapsed": 24,
     "user": {
      "displayName": "Thọ Trần",
      "photoUrl": "https://lh3.googleusercontent.com/a/default-user=s64",
      "userId": "09309455569270955237"
     }
    }
   },
   "execution_count": 42,
   "outputs": []
  },
  {
   "cell_type": "code",
   "source": [
    "data"
   ],
   "metadata": {
    "colab": {
     "base_uri": "https://localhost:8080/",
     "height": 1000
    },
    "id": "Lx5W72hfHfRX",
    "executionInfo": {
     "status": "ok",
     "timestamp": 1641649945227,
     "user_tz": -420,
     "elapsed": 20,
     "user": {
      "displayName": "Thọ Trần",
      "photoUrl": "https://lh3.googleusercontent.com/a/default-user=s64",
      "userId": "09309455569270955237"
     }
    },
    "outputId": "cd01ff35-467c-422a-c39e-20903022c200"
   },
   "execution_count": 43,
   "outputs": [
    {
     "output_type": "execute_result",
     "data": {
      "text/html": [
       "\n",
       "  <div id=\"df-cbd9ba23-fc49-49db-a56a-be0e3942a3a5\">\n",
       "    <div class=\"colab-df-container\">\n",
       "      <div>\n",
       "<style scoped>\n",
       "    .dataframe tbody tr th:only-of-type {\n",
       "        vertical-align: middle;\n",
       "    }\n",
       "\n",
       "    .dataframe tbody tr th {\n",
       "        vertical-align: top;\n",
       "    }\n",
       "\n",
       "    .dataframe thead th {\n",
       "        text-align: right;\n",
       "    }\n",
       "</style>\n",
       "<table border=\"1\" class=\"dataframe\">\n",
       "  <thead>\n",
       "    <tr style=\"text-align: right;\">\n",
       "      <th></th>\n",
       "      <th>Name</th>\n",
       "      <th>Producer</th>\n",
       "      <th>CPU</th>\n",
       "      <th>Ram</th>\n",
       "      <th>Type disk</th>\n",
       "      <th>Capacity</th>\n",
       "      <th>Type GPU</th>\n",
       "      <th>VRAM</th>\n",
       "      <th>Size Display</th>\n",
       "      <th>Relu Display</th>\n",
       "      <th>Price</th>\n",
       "      <th>X_res</th>\n",
       "      <th>Y_res</th>\n",
       "      <th>ssd</th>\n",
       "      <th>hdd</th>\n",
       "    </tr>\n",
       "  </thead>\n",
       "  <tbody>\n",
       "    <tr>\n",
       "      <th>0</th>\n",
       "      <td>laptop acer gaming nitro 5 eagle an515-57-720a...</td>\n",
       "      <td>acer</td>\n",
       "      <td>I7</td>\n",
       "      <td>8</td>\n",
       "      <td>1</td>\n",
       "      <td>512</td>\n",
       "      <td>1</td>\n",
       "      <td>4.0</td>\n",
       "      <td>15.6</td>\n",
       "      <td>1920x1080</td>\n",
       "      <td>29740000</td>\n",
       "      <td>1920</td>\n",
       "      <td>1080</td>\n",
       "      <td>512</td>\n",
       "      <td>0</td>\n",
       "    </tr>\n",
       "    <tr>\n",
       "      <th>1</th>\n",
       "      <td>laptop lg gram 2021 16z90p-g.ah73a5 (core i7-1...</td>\n",
       "      <td>lg</td>\n",
       "      <td>I7</td>\n",
       "      <td>16</td>\n",
       "      <td>1</td>\n",
       "      <td>256</td>\n",
       "      <td>0</td>\n",
       "      <td>0.0</td>\n",
       "      <td>16.0</td>\n",
       "      <td>2560x1600</td>\n",
       "      <td>46490000</td>\n",
       "      <td>2560</td>\n",
       "      <td>1600</td>\n",
       "      <td>256</td>\n",
       "      <td>0</td>\n",
       "    </tr>\n",
       "    <tr>\n",
       "      <th>2</th>\n",
       "      <td>laptop asus rog strix g15 g513ic-hn002t (ryzen...</td>\n",
       "      <td>asus</td>\n",
       "      <td>R7</td>\n",
       "      <td>8</td>\n",
       "      <td>1</td>\n",
       "      <td>512</td>\n",
       "      <td>1</td>\n",
       "      <td>4.0</td>\n",
       "      <td>15.6</td>\n",
       "      <td>1920x1080</td>\n",
       "      <td>27240000</td>\n",
       "      <td>1920</td>\n",
       "      <td>1080</td>\n",
       "      <td>512</td>\n",
       "      <td>0</td>\n",
       "    </tr>\n",
       "    <tr>\n",
       "      <th>3</th>\n",
       "      <td>laptop lenovo v15 g2 itl 82kb00chvn (core i5-...</td>\n",
       "      <td>lenovo</td>\n",
       "      <td>I5</td>\n",
       "      <td>8</td>\n",
       "      <td>1</td>\n",
       "      <td>256</td>\n",
       "      <td>0</td>\n",
       "      <td>0.0</td>\n",
       "      <td>15.6</td>\n",
       "      <td>1920x1080</td>\n",
       "      <td>17444500</td>\n",
       "      <td>1920</td>\n",
       "      <td>1080</td>\n",
       "      <td>256</td>\n",
       "      <td>0</td>\n",
       "    </tr>\n",
       "    <tr>\n",
       "      <th>4</th>\n",
       "      <td>laptop asus tuf gaming a15 fa506qm-hn016t (ryz...</td>\n",
       "      <td>asus</td>\n",
       "      <td>R7</td>\n",
       "      <td>16</td>\n",
       "      <td>1</td>\n",
       "      <td>512</td>\n",
       "      <td>1</td>\n",
       "      <td>6.0</td>\n",
       "      <td>15.6</td>\n",
       "      <td>1920x1080</td>\n",
       "      <td>32340000</td>\n",
       "      <td>1920</td>\n",
       "      <td>1080</td>\n",
       "      <td>512</td>\n",
       "      <td>0</td>\n",
       "    </tr>\n",
       "    <tr>\n",
       "      <th>...</th>\n",
       "      <td>...</td>\n",
       "      <td>...</td>\n",
       "      <td>...</td>\n",
       "      <td>...</td>\n",
       "      <td>...</td>\n",
       "      <td>...</td>\n",
       "      <td>...</td>\n",
       "      <td>...</td>\n",
       "      <td>...</td>\n",
       "      <td>...</td>\n",
       "      <td>...</td>\n",
       "      <td>...</td>\n",
       "      <td>...</td>\n",
       "      <td>...</td>\n",
       "      <td>...</td>\n",
       "    </tr>\n",
       "    <tr>\n",
       "      <th>1183</th>\n",
       "      <td>laptop asus ux482ea-ka274t 90nb0s41-m05030 ( 1...</td>\n",
       "      <td>asus</td>\n",
       "      <td>I5</td>\n",
       "      <td>8</td>\n",
       "      <td>1</td>\n",
       "      <td>512</td>\n",
       "      <td>0</td>\n",
       "      <td>0.0</td>\n",
       "      <td>13.3</td>\n",
       "      <td>2560x1600</td>\n",
       "      <td>32990000</td>\n",
       "      <td>2560</td>\n",
       "      <td>1600</td>\n",
       "      <td>512</td>\n",
       "      <td>0</td>\n",
       "    </tr>\n",
       "    <tr>\n",
       "      <th>1184</th>\n",
       "      <td>laptop asus ux482ea-ka268t 90nb0s41-m05040 ( 1...</td>\n",
       "      <td>asus</td>\n",
       "      <td>I7</td>\n",
       "      <td>16</td>\n",
       "      <td>1</td>\n",
       "      <td>1024</td>\n",
       "      <td>0</td>\n",
       "      <td>0.0</td>\n",
       "      <td>13.3</td>\n",
       "      <td>2560x1600</td>\n",
       "      <td>39990000</td>\n",
       "      <td>2560</td>\n",
       "      <td>1600</td>\n",
       "      <td>1024</td>\n",
       "      <td>0</td>\n",
       "    </tr>\n",
       "    <tr>\n",
       "      <th>1185</th>\n",
       "      <td>laptop dell alienware m15 ryzen edition r5 702...</td>\n",
       "      <td>dell</td>\n",
       "      <td>R9</td>\n",
       "      <td>16</td>\n",
       "      <td>1</td>\n",
       "      <td>1024</td>\n",
       "      <td>0</td>\n",
       "      <td>0.0</td>\n",
       "      <td>13.3</td>\n",
       "      <td>2560x1600</td>\n",
       "      <td>57990000</td>\n",
       "      <td>2560</td>\n",
       "      <td>1600</td>\n",
       "      <td>1024</td>\n",
       "      <td>0</td>\n",
       "    </tr>\n",
       "    <tr>\n",
       "      <th>1186</th>\n",
       "      <td>laptop dell alienware m15 r6 70262923 ( 15.6\" ...</td>\n",
       "      <td>dell</td>\n",
       "      <td>I7</td>\n",
       "      <td>32</td>\n",
       "      <td>1</td>\n",
       "      <td>1024</td>\n",
       "      <td>0</td>\n",
       "      <td>0.0</td>\n",
       "      <td>13.3</td>\n",
       "      <td>2560x1600</td>\n",
       "      <td>65490000</td>\n",
       "      <td>2560</td>\n",
       "      <td>1600</td>\n",
       "      <td>1024</td>\n",
       "      <td>0</td>\n",
       "    </tr>\n",
       "    <tr>\n",
       "      <th>1187</th>\n",
       "      <td>laptop acer nitro 5 an515-57-56s5 nh.qeksv.001...</td>\n",
       "      <td>acer</td>\n",
       "      <td>I5</td>\n",
       "      <td>8</td>\n",
       "      <td>1</td>\n",
       "      <td>512</td>\n",
       "      <td>0</td>\n",
       "      <td>0.0</td>\n",
       "      <td>13.3</td>\n",
       "      <td>2560x1600</td>\n",
       "      <td>23490000</td>\n",
       "      <td>2560</td>\n",
       "      <td>1600</td>\n",
       "      <td>512</td>\n",
       "      <td>0</td>\n",
       "    </tr>\n",
       "  </tbody>\n",
       "</table>\n",
       "<p>1178 rows × 15 columns</p>\n",
       "</div>\n",
       "      <button class=\"colab-df-convert\" onclick=\"convertToInteractive('df-cbd9ba23-fc49-49db-a56a-be0e3942a3a5')\"\n",
       "              title=\"Convert this dataframe to an interactive table.\"\n",
       "              style=\"display:none;\">\n",
       "        \n",
       "  <svg xmlns=\"http://www.w3.org/2000/svg\" height=\"24px\"viewBox=\"0 0 24 24\"\n",
       "       width=\"24px\">\n",
       "    <path d=\"M0 0h24v24H0V0z\" fill=\"none\"/>\n",
       "    <path d=\"M18.56 5.44l.94 2.06.94-2.06 2.06-.94-2.06-.94-.94-2.06-.94 2.06-2.06.94zm-11 1L8.5 8.5l.94-2.06 2.06-.94-2.06-.94L8.5 2.5l-.94 2.06-2.06.94zm10 10l.94 2.06.94-2.06 2.06-.94-2.06-.94-.94-2.06-.94 2.06-2.06.94z\"/><path d=\"M17.41 7.96l-1.37-1.37c-.4-.4-.92-.59-1.43-.59-.52 0-1.04.2-1.43.59L10.3 9.45l-7.72 7.72c-.78.78-.78 2.05 0 2.83L4 21.41c.39.39.9.59 1.41.59.51 0 1.02-.2 1.41-.59l7.78-7.78 2.81-2.81c.8-.78.8-2.07 0-2.86zM5.41 20L4 18.59l7.72-7.72 1.47 1.35L5.41 20z\"/>\n",
       "  </svg>\n",
       "      </button>\n",
       "      \n",
       "  <style>\n",
       "    .colab-df-container {\n",
       "      display:flex;\n",
       "      flex-wrap:wrap;\n",
       "      gap: 12px;\n",
       "    }\n",
       "\n",
       "    .colab-df-convert {\n",
       "      background-color: #E8F0FE;\n",
       "      border: none;\n",
       "      border-radius: 50%;\n",
       "      cursor: pointer;\n",
       "      display: none;\n",
       "      fill: #1967D2;\n",
       "      height: 32px;\n",
       "      padding: 0 0 0 0;\n",
       "      width: 32px;\n",
       "    }\n",
       "\n",
       "    .colab-df-convert:hover {\n",
       "      background-color: #E2EBFA;\n",
       "      box-shadow: 0px 1px 2px rgba(60, 64, 67, 0.3), 0px 1px 3px 1px rgba(60, 64, 67, 0.15);\n",
       "      fill: #174EA6;\n",
       "    }\n",
       "\n",
       "    [theme=dark] .colab-df-convert {\n",
       "      background-color: #3B4455;\n",
       "      fill: #D2E3FC;\n",
       "    }\n",
       "\n",
       "    [theme=dark] .colab-df-convert:hover {\n",
       "      background-color: #434B5C;\n",
       "      box-shadow: 0px 1px 3px 1px rgba(0, 0, 0, 0.15);\n",
       "      filter: drop-shadow(0px 1px 2px rgba(0, 0, 0, 0.3));\n",
       "      fill: #FFFFFF;\n",
       "    }\n",
       "  </style>\n",
       "\n",
       "      <script>\n",
       "        const buttonEl =\n",
       "          document.querySelector('#df-cbd9ba23-fc49-49db-a56a-be0e3942a3a5 button.colab-df-convert');\n",
       "        buttonEl.style.display =\n",
       "          google.colab.kernel.accessAllowed ? 'block' : 'none';\n",
       "\n",
       "        async function convertToInteractive(key) {\n",
       "          const element = document.querySelector('#df-cbd9ba23-fc49-49db-a56a-be0e3942a3a5');\n",
       "          const dataTable =\n",
       "            await google.colab.kernel.invokeFunction('convertToInteractive',\n",
       "                                                     [key], {});\n",
       "          if (!dataTable) return;\n",
       "\n",
       "          const docLinkHtml = 'Like what you see? Visit the ' +\n",
       "            '<a target=\"_blank\" href=https://colab.research.google.com/notebooks/data_table.ipynb>data table notebook</a>'\n",
       "            + ' to learn more about interactive tables.';\n",
       "          element.innerHTML = '';\n",
       "          dataTable['output_type'] = 'display_data';\n",
       "          await google.colab.output.renderOutput(dataTable, element);\n",
       "          const docLink = document.createElement('div');\n",
       "          docLink.innerHTML = docLinkHtml;\n",
       "          element.appendChild(docLink);\n",
       "        }\n",
       "      </script>\n",
       "    </div>\n",
       "  </div>\n",
       "  "
      ],
      "text/plain": [
       "                                                   Name Producer  ...   ssd  hdd\n",
       "0     laptop acer gaming nitro 5 eagle an515-57-720a...     acer  ...   512    0\n",
       "1     laptop lg gram 2021 16z90p-g.ah73a5 (core i7-1...       lg  ...   256    0\n",
       "2     laptop asus rog strix g15 g513ic-hn002t (ryzen...     asus  ...   512    0\n",
       "3     laptop lenovo v15 g2 itl 82kb00chvn (core i5-...   lenovo  ...   256    0\n",
       "4     laptop asus tuf gaming a15 fa506qm-hn016t (ryz...     asus  ...   512    0\n",
       "...                                                 ...      ...  ...   ...  ...\n",
       "1183  laptop asus ux482ea-ka274t 90nb0s41-m05030 ( 1...     asus  ...   512    0\n",
       "1184  laptop asus ux482ea-ka268t 90nb0s41-m05040 ( 1...     asus  ...  1024    0\n",
       "1185  laptop dell alienware m15 ryzen edition r5 702...     dell  ...  1024    0\n",
       "1186  laptop dell alienware m15 r6 70262923 ( 15.6\" ...     dell  ...  1024    0\n",
       "1187  laptop acer nitro 5 an515-57-56s5 nh.qeksv.001...     acer  ...   512    0\n",
       "\n",
       "[1178 rows x 15 columns]"
      ]
     },
     "metadata": {},
     "execution_count": 43
    }
   ]
  },
  {
   "cell_type": "code",
   "source": [
    "data.info() # check data"
   ],
   "metadata": {
    "colab": {
     "base_uri": "https://localhost:8080/"
    },
    "id": "QPb7fErEHmA4",
    "executionInfo": {
     "status": "ok",
     "timestamp": 1641649945228,
     "user_tz": -420,
     "elapsed": 20,
     "user": {
      "displayName": "Thọ Trần",
      "photoUrl": "https://lh3.googleusercontent.com/a/default-user=s64",
      "userId": "09309455569270955237"
     }
    },
    "outputId": "cba2fc00-5cba-4ac5-a680-276c0d17401b"
   },
   "execution_count": 44,
   "outputs": [
    {
     "output_type": "stream",
     "name": "stdout",
     "text": [
      "<class 'pandas.core.frame.DataFrame'>\n",
      "Int64Index: 1178 entries, 0 to 1187\n",
      "Data columns (total 15 columns):\n",
      " #   Column        Non-Null Count  Dtype  \n",
      "---  ------        --------------  -----  \n",
      " 0   Name          1178 non-null   object \n",
      " 1   Producer      1178 non-null   object \n",
      " 2   CPU           1178 non-null   object \n",
      " 3   Ram           1178 non-null   int64  \n",
      " 4   Type disk     1178 non-null   int64  \n",
      " 5   Capacity      1178 non-null   int64  \n",
      " 6   Type GPU      1178 non-null   int64  \n",
      " 7   VRAM          1178 non-null   float64\n",
      " 8   Size Display  1178 non-null   float64\n",
      " 9   Relu Display  1178 non-null   object \n",
      " 10  Price         1178 non-null   int64  \n",
      " 11  X_res         1178 non-null   int64  \n",
      " 12  Y_res         1178 non-null   int64  \n",
      " 13  ssd           1178 non-null   int64  \n",
      " 14  hdd           1178 non-null   int64  \n",
      "dtypes: float64(2), int64(9), object(4)\n",
      "memory usage: 147.2+ KB\n"
     ]
    }
   ]
  },
  {
   "cell_type": "code",
   "source": [
    "data.describe()"
   ],
   "metadata": {
    "colab": {
     "base_uri": "https://localhost:8080/",
     "height": 381
    },
    "id": "09Y2G2WnHw_m",
    "executionInfo": {
     "status": "ok",
     "timestamp": 1641649945228,
     "user_tz": -420,
     "elapsed": 17,
     "user": {
      "displayName": "Thọ Trần",
      "photoUrl": "https://lh3.googleusercontent.com/a/default-user=s64",
      "userId": "09309455569270955237"
     }
    },
    "outputId": "094334f2-96f3-4392-faba-bd94a2ce71ab"
   },
   "execution_count": 45,
   "outputs": [
    {
     "output_type": "execute_result",
     "data": {
      "text/html": [
       "\n",
       "  <div id=\"df-b9538447-3a6c-44a4-9cd2-109ba65cfdfd\">\n",
       "    <div class=\"colab-df-container\">\n",
       "      <div>\n",
       "<style scoped>\n",
       "    .dataframe tbody tr th:only-of-type {\n",
       "        vertical-align: middle;\n",
       "    }\n",
       "\n",
       "    .dataframe tbody tr th {\n",
       "        vertical-align: top;\n",
       "    }\n",
       "\n",
       "    .dataframe thead th {\n",
       "        text-align: right;\n",
       "    }\n",
       "</style>\n",
       "<table border=\"1\" class=\"dataframe\">\n",
       "  <thead>\n",
       "    <tr style=\"text-align: right;\">\n",
       "      <th></th>\n",
       "      <th>Ram</th>\n",
       "      <th>Type disk</th>\n",
       "      <th>Capacity</th>\n",
       "      <th>Type GPU</th>\n",
       "      <th>VRAM</th>\n",
       "      <th>Size Display</th>\n",
       "      <th>Price</th>\n",
       "      <th>X_res</th>\n",
       "      <th>Y_res</th>\n",
       "      <th>ssd</th>\n",
       "      <th>hdd</th>\n",
       "    </tr>\n",
       "  </thead>\n",
       "  <tbody>\n",
       "    <tr>\n",
       "      <th>count</th>\n",
       "      <td>1178.000000</td>\n",
       "      <td>1178.000000</td>\n",
       "      <td>1178.000000</td>\n",
       "      <td>1178.000000</td>\n",
       "      <td>1178.000000</td>\n",
       "      <td>1178.000000</td>\n",
       "      <td>1.178000e+03</td>\n",
       "      <td>1178.000000</td>\n",
       "      <td>1178.000000</td>\n",
       "      <td>1178.000000</td>\n",
       "      <td>1178.000000</td>\n",
       "    </tr>\n",
       "    <tr>\n",
       "      <th>mean</th>\n",
       "      <td>11.022071</td>\n",
       "      <td>0.928693</td>\n",
       "      <td>541.420204</td>\n",
       "      <td>0.342954</td>\n",
       "      <td>1.285229</td>\n",
       "      <td>14.625297</td>\n",
       "      <td>2.863758e+07</td>\n",
       "      <td>2033.482173</td>\n",
       "      <td>1170.146010</td>\n",
       "      <td>505.752971</td>\n",
       "      <td>35.667233</td>\n",
       "    </tr>\n",
       "    <tr>\n",
       "      <th>std</th>\n",
       "      <td>7.435559</td>\n",
       "      <td>0.257447</td>\n",
       "      <td>316.803450</td>\n",
       "      <td>0.474898</td>\n",
       "      <td>2.599615</td>\n",
       "      <td>1.198550</td>\n",
       "      <td>1.538173e+07</td>\n",
       "      <td>329.478319</td>\n",
       "      <td>229.499575</td>\n",
       "      <td>337.511163</td>\n",
       "      <td>150.196240</td>\n",
       "    </tr>\n",
       "    <tr>\n",
       "      <th>min</th>\n",
       "      <td>4.000000</td>\n",
       "      <td>0.000000</td>\n",
       "      <td>1.000000</td>\n",
       "      <td>0.000000</td>\n",
       "      <td>0.000000</td>\n",
       "      <td>4.000000</td>\n",
       "      <td>6.145000e+06</td>\n",
       "      <td>1080.000000</td>\n",
       "      <td>768.000000</td>\n",
       "      <td>0.000000</td>\n",
       "      <td>0.000000</td>\n",
       "    </tr>\n",
       "    <tr>\n",
       "      <th>25%</th>\n",
       "      <td>8.000000</td>\n",
       "      <td>1.000000</td>\n",
       "      <td>256.000000</td>\n",
       "      <td>0.000000</td>\n",
       "      <td>0.000000</td>\n",
       "      <td>14.000000</td>\n",
       "      <td>1.894900e+07</td>\n",
       "      <td>1920.000000</td>\n",
       "      <td>1080.000000</td>\n",
       "      <td>256.000000</td>\n",
       "      <td>0.000000</td>\n",
       "    </tr>\n",
       "    <tr>\n",
       "      <th>50%</th>\n",
       "      <td>8.000000</td>\n",
       "      <td>1.000000</td>\n",
       "      <td>512.000000</td>\n",
       "      <td>0.000000</td>\n",
       "      <td>0.000000</td>\n",
       "      <td>14.000000</td>\n",
       "      <td>2.354000e+07</td>\n",
       "      <td>1920.000000</td>\n",
       "      <td>1080.000000</td>\n",
       "      <td>512.000000</td>\n",
       "      <td>0.000000</td>\n",
       "    </tr>\n",
       "    <tr>\n",
       "      <th>75%</th>\n",
       "      <td>16.000000</td>\n",
       "      <td>1.000000</td>\n",
       "      <td>512.000000</td>\n",
       "      <td>1.000000</td>\n",
       "      <td>2.000000</td>\n",
       "      <td>15.600000</td>\n",
       "      <td>3.412600e+07</td>\n",
       "      <td>1920.000000</td>\n",
       "      <td>1080.000000</td>\n",
       "      <td>512.000000</td>\n",
       "      <td>0.000000</td>\n",
       "    </tr>\n",
       "    <tr>\n",
       "      <th>max</th>\n",
       "      <td>64.000000</td>\n",
       "      <td>1.000000</td>\n",
       "      <td>2048.000000</td>\n",
       "      <td>1.000000</td>\n",
       "      <td>16.000000</td>\n",
       "      <td>17.300000</td>\n",
       "      <td>1.150000e+08</td>\n",
       "      <td>3840.000000</td>\n",
       "      <td>2400.000000</td>\n",
       "      <td>2048.000000</td>\n",
       "      <td>2048.000000</td>\n",
       "    </tr>\n",
       "  </tbody>\n",
       "</table>\n",
       "</div>\n",
       "      <button class=\"colab-df-convert\" onclick=\"convertToInteractive('df-b9538447-3a6c-44a4-9cd2-109ba65cfdfd')\"\n",
       "              title=\"Convert this dataframe to an interactive table.\"\n",
       "              style=\"display:none;\">\n",
       "        \n",
       "  <svg xmlns=\"http://www.w3.org/2000/svg\" height=\"24px\"viewBox=\"0 0 24 24\"\n",
       "       width=\"24px\">\n",
       "    <path d=\"M0 0h24v24H0V0z\" fill=\"none\"/>\n",
       "    <path d=\"M18.56 5.44l.94 2.06.94-2.06 2.06-.94-2.06-.94-.94-2.06-.94 2.06-2.06.94zm-11 1L8.5 8.5l.94-2.06 2.06-.94-2.06-.94L8.5 2.5l-.94 2.06-2.06.94zm10 10l.94 2.06.94-2.06 2.06-.94-2.06-.94-.94-2.06-.94 2.06-2.06.94z\"/><path d=\"M17.41 7.96l-1.37-1.37c-.4-.4-.92-.59-1.43-.59-.52 0-1.04.2-1.43.59L10.3 9.45l-7.72 7.72c-.78.78-.78 2.05 0 2.83L4 21.41c.39.39.9.59 1.41.59.51 0 1.02-.2 1.41-.59l7.78-7.78 2.81-2.81c.8-.78.8-2.07 0-2.86zM5.41 20L4 18.59l7.72-7.72 1.47 1.35L5.41 20z\"/>\n",
       "  </svg>\n",
       "      </button>\n",
       "      \n",
       "  <style>\n",
       "    .colab-df-container {\n",
       "      display:flex;\n",
       "      flex-wrap:wrap;\n",
       "      gap: 12px;\n",
       "    }\n",
       "\n",
       "    .colab-df-convert {\n",
       "      background-color: #E8F0FE;\n",
       "      border: none;\n",
       "      border-radius: 50%;\n",
       "      cursor: pointer;\n",
       "      display: none;\n",
       "      fill: #1967D2;\n",
       "      height: 32px;\n",
       "      padding: 0 0 0 0;\n",
       "      width: 32px;\n",
       "    }\n",
       "\n",
       "    .colab-df-convert:hover {\n",
       "      background-color: #E2EBFA;\n",
       "      box-shadow: 0px 1px 2px rgba(60, 64, 67, 0.3), 0px 1px 3px 1px rgba(60, 64, 67, 0.15);\n",
       "      fill: #174EA6;\n",
       "    }\n",
       "\n",
       "    [theme=dark] .colab-df-convert {\n",
       "      background-color: #3B4455;\n",
       "      fill: #D2E3FC;\n",
       "    }\n",
       "\n",
       "    [theme=dark] .colab-df-convert:hover {\n",
       "      background-color: #434B5C;\n",
       "      box-shadow: 0px 1px 3px 1px rgba(0, 0, 0, 0.15);\n",
       "      filter: drop-shadow(0px 1px 2px rgba(0, 0, 0, 0.3));\n",
       "      fill: #FFFFFF;\n",
       "    }\n",
       "  </style>\n",
       "\n",
       "      <script>\n",
       "        const buttonEl =\n",
       "          document.querySelector('#df-b9538447-3a6c-44a4-9cd2-109ba65cfdfd button.colab-df-convert');\n",
       "        buttonEl.style.display =\n",
       "          google.colab.kernel.accessAllowed ? 'block' : 'none';\n",
       "\n",
       "        async function convertToInteractive(key) {\n",
       "          const element = document.querySelector('#df-b9538447-3a6c-44a4-9cd2-109ba65cfdfd');\n",
       "          const dataTable =\n",
       "            await google.colab.kernel.invokeFunction('convertToInteractive',\n",
       "                                                     [key], {});\n",
       "          if (!dataTable) return;\n",
       "\n",
       "          const docLinkHtml = 'Like what you see? Visit the ' +\n",
       "            '<a target=\"_blank\" href=https://colab.research.google.com/notebooks/data_table.ipynb>data table notebook</a>'\n",
       "            + ' to learn more about interactive tables.';\n",
       "          element.innerHTML = '';\n",
       "          dataTable['output_type'] = 'display_data';\n",
       "          await google.colab.output.renderOutput(dataTable, element);\n",
       "          const docLink = document.createElement('div');\n",
       "          docLink.innerHTML = docLinkHtml;\n",
       "          element.appendChild(docLink);\n",
       "        }\n",
       "      </script>\n",
       "    </div>\n",
       "  </div>\n",
       "  "
      ],
      "text/plain": [
       "               Ram    Type disk  ...          ssd          hdd\n",
       "count  1178.000000  1178.000000  ...  1178.000000  1178.000000\n",
       "mean     11.022071     0.928693  ...   505.752971    35.667233\n",
       "std       7.435559     0.257447  ...   337.511163   150.196240\n",
       "min       4.000000     0.000000  ...     0.000000     0.000000\n",
       "25%       8.000000     1.000000  ...   256.000000     0.000000\n",
       "50%       8.000000     1.000000  ...   512.000000     0.000000\n",
       "75%      16.000000     1.000000  ...   512.000000     0.000000\n",
       "max      64.000000     1.000000  ...  2048.000000  2048.000000\n",
       "\n",
       "[8 rows x 11 columns]"
      ]
     },
     "metadata": {},
     "execution_count": 45
    }
   ]
  },
  {
   "cell_type": "code",
   "source": [
    "sns.boxplot(x = 'Price', data = data) # boxplot giá"
   ],
   "metadata": {
    "colab": {
     "base_uri": "https://localhost:8080/",
     "height": 297
    },
    "id": "slfvQF1zJFM_",
    "executionInfo": {
     "status": "ok",
     "timestamp": 1641649945741,
     "user_tz": -420,
     "elapsed": 529,
     "user": {
      "displayName": "Thọ Trần",
      "photoUrl": "https://lh3.googleusercontent.com/a/default-user=s64",
      "userId": "09309455569270955237"
     }
    },
    "outputId": "f6bebeaa-ec8d-43ec-989d-059ab87f50a6"
   },
   "execution_count": 46,
   "outputs": [
    {
     "output_type": "execute_result",
     "data": {
      "text/plain": [
       "<matplotlib.axes._subplots.AxesSubplot at 0x7f53da5db750>"
      ]
     },
     "metadata": {},
     "execution_count": 46
    },
    {
     "output_type": "display_data",
     "data": {
      "image/png": "[encoded data removed]",
      "text/plain": [
       "<Figure size 432x288 with 1 Axes>"
      ]
     },
     "metadata": {
      "needs_background": "light"
     }
    }
   ]
  },
  {
   "cell_type": "code",
   "source": [
    "# chuẩn hóa giá bằng log transform\n",
    "y = data['Price']\n",
    "y_log = np.log(data['Price'])\n",
    "plt.subplot(1,2,1)\n",
    "sns.histplot(x = y, data = y, kde = True).set(title = 'giá chứa chuẩn hóa')\n",
    "plt.subplot(1,2,2)\n",
    "sns.histplot(x = y_log, data = y_log , kde = True).set(title = 'giá chuẩn hóa với log transform')"
   ],
   "metadata": {
    "colab": {
     "base_uri": "https://localhost:8080/",
     "height": 314
    },
    "id": "k6Qc_k4PH4hu",
    "executionInfo": {
     "status": "ok",
     "timestamp": 1641649946645,
     "user_tz": -420,
     "elapsed": 911,
     "user": {
      "displayName": "Thọ Trần",
      "photoUrl": "https://lh3.googleusercontent.com/a/default-user=s64",
      "userId": "09309455569270955237"
     }
    },
    "outputId": "ba23cca8-bebc-4d82-8ef3-464b313b4eca"
   },
   "execution_count": 47,
   "outputs": [
    {
     "output_type": "execute_result",
     "data": {
      "text/plain": [
       "[Text(0.5, 1.0, 'giá chuẩn hóa với log transform')]"
      ]
     },
     "metadata": {},
     "execution_count": 47
    },
    {
     "output_type": "display_data",
     "data": {
      "image/png": "[encoded data removed]",
      "text/plain": [
       "<Figure size 432x288 with 2 Axes>"
      ]
     },
     "metadata": {
      "needs_background": "light"
     }
    }
   ]
  },
  {
   "cell_type": "code",
   "source": [
    "plt.figure(figsize = (15,7))\n",
    "sns.boxplot(x = 'CPU',y = 'Price', data = data)"
   ],
   "metadata": {
    "colab": {
     "base_uri": "https://localhost:8080/",
     "height": 343
    },
    "id": "Y5b-lMvAJKNH",
    "executionInfo": {
     "status": "ok",
     "timestamp": 1641649947381,
     "user_tz": -420,
     "elapsed": 739,
     "user": {
      "displayName": "Thọ Trần",
      "photoUrl": "https://lh3.googleusercontent.com/a/default-user=s64",
      "userId": "09309455569270955237"
     }
    },
    "outputId": "87887870-1b60-4f25-f998-55f9406e14b5"
   },
   "execution_count": 48,
   "outputs": [
    {
     "output_type": "execute_result",
     "data": {
      "text/plain": [
       "<matplotlib.axes._subplots.AxesSubplot at 0x7f53da1b0750>"
      ]
     },
     "metadata": {},
     "execution_count": 48
    },
    {
     "output_type": "display_data",
     "data": {
      "image/png": "[encoded data removed]",
      "text/plain": [
       "<Figure size 1080x504 with 1 Axes>"
      ]
     },
     "metadata": {
      "needs_background": "light"
     }
    }
   ]
  },
  {
   "cell_type": "code",
   "source": [
    "plt.figure(figsize = (15,7))\n",
    "sns.boxplot(x = 'Ram',y = 'Price', data = data)"
   ],
   "metadata": {
    "colab": {
     "base_uri": "https://localhost:8080/",
     "height": 343
    },
    "id": "TZAE8cJsKsD2",
    "executionInfo": {
     "status": "ok",
     "timestamp": 1641649948115,
     "user_tz": -420,
     "elapsed": 741,
     "user": {
      "displayName": "Thọ Trần",
      "photoUrl": "https://lh3.googleusercontent.com/a/default-user=s64",
      "userId": "09309455569270955237"
     }
    },
    "outputId": "c11ebe0b-e505-4bfa-d0ab-bb8d428ff49e"
   },
   "execution_count": 49,
   "outputs": [
    {
     "output_type": "execute_result",
     "data": {
      "text/plain": [
       "<matplotlib.axes._subplots.AxesSubplot at 0x7f53da386e10>"
      ]
     },
     "metadata": {},
     "execution_count": 49
    },
    {
     "output_type": "display_data",
     "data": {
      "image/png": "[encoded data removed]",
      "text/plain": [
       "<Figure size 1080x504 with 1 Axes>"
      ]
     },
     "metadata": {
      "needs_background": "light"
     }
    }
   ]
  },
  {
   "cell_type": "code",
   "source": [
    "sns.barplot(\n",
    "        x = data['Ram'],\n",
    "        y = 'Price',\n",
    "        data = data\n",
    "    )"
   ],
   "metadata": {
    "colab": {
     "base_uri": "https://localhost:8080/",
     "height": 308
    },
    "id": "q-aBhfnQKyH3",
    "executionInfo": {
     "status": "ok",
     "timestamp": 1641649948116,
     "user_tz": -420,
     "elapsed": 18,
     "user": {
      "displayName": "Thọ Trần",
      "photoUrl": "https://lh3.googleusercontent.com/a/default-user=s64",
      "userId": "09309455569270955237"
     }
    },
    "outputId": "940b8428-ed89-4f16-b398-28cfdb0997bf"
   },
   "execution_count": 50,
   "outputs": [
    {
     "output_type": "execute_result",
     "data": {
      "text/plain": [
       "<matplotlib.axes._subplots.AxesSubplot at 0x7f53d9f6a810>"
      ]
     },
     "metadata": {},
     "execution_count": 50
    },
    {
     "output_type": "display_data",
     "data": {
      "image/png": "[encoded data removed]",
      "text/plain": [
       "<Figure size 432x288 with 1 Axes>"
      ]
     },
     "metadata": {
      "needs_background": "light"
     }
    }
   ]
  },
  {
   "cell_type": "code",
   "source": [
    "data.info() # check data"
   ],
   "metadata": {
    "colab": {
     "base_uri": "https://localhost:8080/"
    },
    "id": "c0Rx9BVfKpK4",
    "executionInfo": {
     "status": "ok",
     "timestamp": 1641649948117,
     "user_tz": -420,
     "elapsed": 17,
     "user": {
      "displayName": "Thọ Trần",
      "photoUrl": "https://lh3.googleusercontent.com/a/default-user=s64",
      "userId": "09309455569270955237"
     }
    },
    "outputId": "632bbdae-1555-4ac0-9b3f-046ba456b94f"
   },
   "execution_count": 51,
   "outputs": [
    {
     "output_type": "stream",
     "name": "stdout",
     "text": [
      "<class 'pandas.core.frame.DataFrame'>\n",
      "Int64Index: 1178 entries, 0 to 1187\n",
      "Data columns (total 15 columns):\n",
      " #   Column        Non-Null Count  Dtype  \n",
      "---  ------        --------------  -----  \n",
      " 0   Name          1178 non-null   object \n",
      " 1   Producer      1178 non-null   object \n",
      " 2   CPU           1178 non-null   object \n",
      " 3   Ram           1178 non-null   int64  \n",
      " 4   Type disk     1178 non-null   int64  \n",
      " 5   Capacity      1178 non-null   int64  \n",
      " 6   Type GPU      1178 non-null   int64  \n",
      " 7   VRAM          1178 non-null   float64\n",
      " 8   Size Display  1178 non-null   float64\n",
      " 9   Relu Display  1178 non-null   object \n",
      " 10  Price         1178 non-null   int64  \n",
      " 11  X_res         1178 non-null   int64  \n",
      " 12  Y_res         1178 non-null   int64  \n",
      " 13  ssd           1178 non-null   int64  \n",
      " 14  hdd           1178 non-null   int64  \n",
      "dtypes: float64(2), int64(9), object(4)\n",
      "memory usage: 187.2+ KB\n"
     ]
    }
   ]
  },
  {
   "cell_type": "code",
   "source": [
    "a=[i for i in data['Type disk']]\n",
    "b=[]\n",
    "c=0\n",
    "d=0\n",
    "for i in a:\n",
    "  if i>0 :\n",
    "    b.append('hdd')\n",
    "    c+=1\n",
    "  else:\n",
    "    b.append('ssd')\n",
    "    d+=1\n",
    "print('hdd=',d)\n",
    "print('ssd=',c)"
   ],
   "metadata": {
    "colab": {
     "base_uri": "https://localhost:8080/"
    },
    "id": "EyjjowdVOLef",
    "executionInfo": {
     "status": "ok",
     "timestamp": 1641649948118,
     "user_tz": -420,
     "elapsed": 15,
     "user": {
      "displayName": "Thọ Trần",
      "photoUrl": "https://lh3.googleusercontent.com/a/default-user=s64",
      "userId": "09309455569270955237"
     }
    },
    "outputId": "5281b5da-6500-4982-ef92-a21433addfda"
   },
   "execution_count": 52,
   "outputs": [
    {
     "output_type": "stream",
     "name": "stdout",
     "text": [
      "hdd= 84\n",
      "ssd= 1094\n"
     ]
    }
   ]
  },
  {
   "cell_type": "code",
   "source": [
    "data = data.drop(['Name', 'Producer', 'CPU','Type GPU','Relu Display','Type disk','Capacity',], axis = 1)"
   ],
   "metadata": {
    "id": "_S9xGuRvQZim",
    "executionInfo": {
     "status": "ok",
     "timestamp": 1641649948119,
     "user_tz": -420,
     "elapsed": 14,
     "user": {
      "displayName": "Thọ Trần",
      "photoUrl": "https://lh3.googleusercontent.com/a/default-user=s64",
      "userId": "09309455569270955237"
     }
    }
   },
   "execution_count": 53,
   "outputs": []
  },
  {
   "cell_type": "code",
   "source": [
    "plt.figure(figsize=(14,12))\n",
    "sns.heatmap(data.corr(),center = 0,annot = True,vmin = -1.0,vmax = 1.0,cmap = 'RdBu_r',data = data)"
   ],
   "metadata": {
    "colab": {
     "base_uri": "https://localhost:8080/",
     "height": 599
    },
    "id": "KctK3dSwQS6x",
    "executionInfo": {
     "status": "ok",
     "timestamp": 1641649948812,
     "user_tz": -420,
     "elapsed": 707,
     "user": {
      "displayName": "Thọ Trần",
      "photoUrl": "https://lh3.googleusercontent.com/a/default-user=s64",
      "userId": "09309455569270955237"
     }
    },
    "outputId": "f3fc8948-e409-4fcc-9115-e4d276bbc954"
   },
   "execution_count": 54,
   "outputs": [
    {
     "output_type": "execute_result",
     "data": {
      "text/plain": [
       "<matplotlib.axes._subplots.AxesSubplot at 0x7f53d9ed6790>"
      ]
     },
     "metadata": {},
     "execution_count": 54
    },
    {
     "output_type": "display_data",
     "data": {
      "image/png": "[encoded data removed]",
      "text/plain": [
       "<Figure size 1008x864 with 2 Axes>"
      ]
     },
     "metadata": {
      "needs_background": "light"
     }
    }
   ]
  },
  {
   "cell_type": "code",
   "source": [
    "data=data.drop(['Price'], axis = 1)"
   ],
   "metadata": {
    "id": "PlrC8u5g0wl0",
    "executionInfo": {
     "status": "ok",
     "timestamp": 1641652285889,
     "user_tz": -420,
     "elapsed": 333,
     "user": {
      "displayName": "Thọ Trần",
      "photoUrl": "https://lh3.googleusercontent.com/a/default-user=s64",
      "userId": "09309455569270955237"
     }
    }
   },
   "execution_count": 91,
   "outputs": []
  },
  {
   "cell_type": "code",
   "source": [
    "data"
   ],
   "metadata": {
    "colab": {
     "base_uri": "https://localhost:8080/",
     "height": 423
    },
    "id": "89-Tj1tGF9dz",
    "executionInfo": {
     "status": "ok",
     "timestamp": 1641652289606,
     "user_tz": -420,
     "elapsed": 515,
     "user": {
      "displayName": "Thọ Trần",
      "photoUrl": "https://lh3.googleusercontent.com/a/default-user=s64",
      "userId": "09309455569270955237"
     }
    },
    "outputId": "2a6421f9-cee1-49af-a773-3e7421fc349e"
   },
   "execution_count": 92,
   "outputs": [
    {
     "output_type": "execute_result",
     "data": {
      "text/html": [
       "\n",
       "  <div id=\"df-4d3db968-9624-41eb-8441-8ea84e1b4502\">\n",
       "    <div class=\"colab-df-container\">\n",
       "      <div>\n",
       "<style scoped>\n",
       "    .dataframe tbody tr th:only-of-type {\n",
       "        vertical-align: middle;\n",
       "    }\n",
       "\n",
       "    .dataframe tbody tr th {\n",
       "        vertical-align: top;\n",
       "    }\n",
       "\n",
       "    .dataframe thead th {\n",
       "        text-align: right;\n",
       "    }\n",
       "</style>\n",
       "<table border=\"1\" class=\"dataframe\">\n",
       "  <thead>\n",
       "    <tr style=\"text-align: right;\">\n",
       "      <th></th>\n",
       "      <th>Ram</th>\n",
       "      <th>VRAM</th>\n",
       "      <th>Size Display</th>\n",
       "      <th>X_res</th>\n",
       "      <th>Y_res</th>\n",
       "      <th>ssd</th>\n",
       "      <th>hdd</th>\n",
       "    </tr>\n",
       "  </thead>\n",
       "  <tbody>\n",
       "    <tr>\n",
       "      <th>0</th>\n",
       "      <td>8</td>\n",
       "      <td>4.0</td>\n",
       "      <td>15.6</td>\n",
       "      <td>1920</td>\n",
       "      <td>1080</td>\n",
       "      <td>512</td>\n",
       "      <td>0</td>\n",
       "    </tr>\n",
       "    <tr>\n",
       "      <th>1</th>\n",
       "      <td>16</td>\n",
       "      <td>0.0</td>\n",
       "      <td>16.0</td>\n",
       "      <td>2560</td>\n",
       "      <td>1600</td>\n",
       "      <td>256</td>\n",
       "      <td>0</td>\n",
       "    </tr>\n",
       "    <tr>\n",
       "      <th>2</th>\n",
       "      <td>8</td>\n",
       "      <td>4.0</td>\n",
       "      <td>15.6</td>\n",
       "      <td>1920</td>\n",
       "      <td>1080</td>\n",
       "      <td>512</td>\n",
       "      <td>0</td>\n",
       "    </tr>\n",
       "    <tr>\n",
       "      <th>3</th>\n",
       "      <td>8</td>\n",
       "      <td>0.0</td>\n",
       "      <td>15.6</td>\n",
       "      <td>1920</td>\n",
       "      <td>1080</td>\n",
       "      <td>256</td>\n",
       "      <td>0</td>\n",
       "    </tr>\n",
       "    <tr>\n",
       "      <th>4</th>\n",
       "      <td>16</td>\n",
       "      <td>6.0</td>\n",
       "      <td>15.6</td>\n",
       "      <td>1920</td>\n",
       "      <td>1080</td>\n",
       "      <td>512</td>\n",
       "      <td>0</td>\n",
       "    </tr>\n",
       "    <tr>\n",
       "      <th>...</th>\n",
       "      <td>...</td>\n",
       "      <td>...</td>\n",
       "      <td>...</td>\n",
       "      <td>...</td>\n",
       "      <td>...</td>\n",
       "      <td>...</td>\n",
       "      <td>...</td>\n",
       "    </tr>\n",
       "    <tr>\n",
       "      <th>1183</th>\n",
       "      <td>8</td>\n",
       "      <td>0.0</td>\n",
       "      <td>13.3</td>\n",
       "      <td>2560</td>\n",
       "      <td>1600</td>\n",
       "      <td>512</td>\n",
       "      <td>0</td>\n",
       "    </tr>\n",
       "    <tr>\n",
       "      <th>1184</th>\n",
       "      <td>16</td>\n",
       "      <td>0.0</td>\n",
       "      <td>13.3</td>\n",
       "      <td>2560</td>\n",
       "      <td>1600</td>\n",
       "      <td>1024</td>\n",
       "      <td>0</td>\n",
       "    </tr>\n",
       "    <tr>\n",
       "      <th>1185</th>\n",
       "      <td>16</td>\n",
       "      <td>0.0</td>\n",
       "      <td>13.3</td>\n",
       "      <td>2560</td>\n",
       "      <td>1600</td>\n",
       "      <td>1024</td>\n",
       "      <td>0</td>\n",
       "    </tr>\n",
       "    <tr>\n",
       "      <th>1186</th>\n",
       "      <td>32</td>\n",
       "      <td>0.0</td>\n",
       "      <td>13.3</td>\n",
       "      <td>2560</td>\n",
       "      <td>1600</td>\n",
       "      <td>1024</td>\n",
       "      <td>0</td>\n",
       "    </tr>\n",
       "    <tr>\n",
       "      <th>1187</th>\n",
       "      <td>8</td>\n",
       "      <td>0.0</td>\n",
       "      <td>13.3</td>\n",
       "      <td>2560</td>\n",
       "      <td>1600</td>\n",
       "      <td>512</td>\n",
       "      <td>0</td>\n",
       "    </tr>\n",
       "  </tbody>\n",
       "</table>\n",
       "<p>1178 rows × 7 columns</p>\n",
       "</div>\n",
       "      <button class=\"colab-df-convert\" onclick=\"convertToInteractive('df-4d3db968-9624-41eb-8441-8ea84e1b4502')\"\n",
       "              title=\"Convert this dataframe to an interactive table.\"\n",
       "              style=\"display:none;\">\n",
       "        \n",
       "  <svg xmlns=\"http://www.w3.org/2000/svg\" height=\"24px\"viewBox=\"0 0 24 24\"\n",
       "       width=\"24px\">\n",
       "    <path d=\"M0 0h24v24H0V0z\" fill=\"none\"/>\n",
       "    <path d=\"M18.56 5.44l.94 2.06.94-2.06 2.06-.94-2.06-.94-.94-2.06-.94 2.06-2.06.94zm-11 1L8.5 8.5l.94-2.06 2.06-.94-2.06-.94L8.5 2.5l-.94 2.06-2.06.94zm10 10l.94 2.06.94-2.06 2.06-.94-2.06-.94-.94-2.06-.94 2.06-2.06.94z\"/><path d=\"M17.41 7.96l-1.37-1.37c-.4-.4-.92-.59-1.43-.59-.52 0-1.04.2-1.43.59L10.3 9.45l-7.72 7.72c-.78.78-.78 2.05 0 2.83L4 21.41c.39.39.9.59 1.41.59.51 0 1.02-.2 1.41-.59l7.78-7.78 2.81-2.81c.8-.78.8-2.07 0-2.86zM5.41 20L4 18.59l7.72-7.72 1.47 1.35L5.41 20z\"/>\n",
       "  </svg>\n",
       "      </button>\n",
       "      \n",
       "  <style>\n",
       "    .colab-df-container {\n",
       "      display:flex;\n",
       "      flex-wrap:wrap;\n",
       "      gap: 12px;\n",
       "    }\n",
       "\n",
       "    .colab-df-convert {\n",
       "      background-color: #E8F0FE;\n",
       "      border: none;\n",
       "      border-radius: 50%;\n",
       "      cursor: pointer;\n",
       "      display: none;\n",
       "      fill: #1967D2;\n",
       "      height: 32px;\n",
       "      padding: 0 0 0 0;\n",
       "      width: 32px;\n",
       "    }\n",
       "\n",
       "    .colab-df-convert:hover {\n",
       "      background-color: #E2EBFA;\n",
       "      box-shadow: 0px 1px 2px rgba(60, 64, 67, 0.3), 0px 1px 3px 1px rgba(60, 64, 67, 0.15);\n",
       "      fill: #174EA6;\n",
       "    }\n",
       "\n",
       "    [theme=dark] .colab-df-convert {\n",
       "      background-color: #3B4455;\n",
       "      fill: #D2E3FC;\n",
       "    }\n",
       "\n",
       "    [theme=dark] .colab-df-convert:hover {\n",
       "      background-color: #434B5C;\n",
       "      box-shadow: 0px 1px 3px 1px rgba(0, 0, 0, 0.15);\n",
       "      filter: drop-shadow(0px 1px 2px rgba(0, 0, 0, 0.3));\n",
       "      fill: #FFFFFF;\n",
       "    }\n",
       "  </style>\n",
       "\n",
       "      <script>\n",
       "        const buttonEl =\n",
       "          document.querySelector('#df-4d3db968-9624-41eb-8441-8ea84e1b4502 button.colab-df-convert');\n",
       "        buttonEl.style.display =\n",
       "          google.colab.kernel.accessAllowed ? 'block' : 'none';\n",
       "\n",
       "        async function convertToInteractive(key) {\n",
       "          const element = document.querySelector('#df-4d3db968-9624-41eb-8441-8ea84e1b4502');\n",
       "          const dataTable =\n",
       "            await google.colab.kernel.invokeFunction('convertToInteractive',\n",
       "                                                     [key], {});\n",
       "          if (!dataTable) return;\n",
       "\n",
       "          const docLinkHtml = 'Like what you see? Visit the ' +\n",
       "            '<a target=\"_blank\" href=https://colab.research.google.com/notebooks/data_table.ipynb>data table notebook</a>'\n",
       "            + ' to learn more about interactive tables.';\n",
       "          element.innerHTML = '';\n",
       "          dataTable['output_type'] = 'display_data';\n",
       "          await google.colab.output.renderOutput(dataTable, element);\n",
       "          const docLink = document.createElement('div');\n",
       "          docLink.innerHTML = docLinkHtml;\n",
       "          element.appendChild(docLink);\n",
       "        }\n",
       "      </script>\n",
       "    </div>\n",
       "  </div>\n",
       "  "
      ],
      "text/plain": [
       "      Ram  VRAM  Size Display  X_res  Y_res   ssd  hdd\n",
       "0       8   4.0          15.6   1920   1080   512    0\n",
       "1      16   0.0          16.0   2560   1600   256    0\n",
       "2       8   4.0          15.6   1920   1080   512    0\n",
       "3       8   0.0          15.6   1920   1080   256    0\n",
       "4      16   6.0          15.6   1920   1080   512    0\n",
       "...   ...   ...           ...    ...    ...   ...  ...\n",
       "1183    8   0.0          13.3   2560   1600   512    0\n",
       "1184   16   0.0          13.3   2560   1600  1024    0\n",
       "1185   16   0.0          13.3   2560   1600  1024    0\n",
       "1186   32   0.0          13.3   2560   1600  1024    0\n",
       "1187    8   0.0          13.3   2560   1600   512    0\n",
       "\n",
       "[1178 rows x 7 columns]"
      ]
     },
     "metadata": {},
     "execution_count": 92
    }
   ]
  },
  {
   "cell_type": "code",
   "source": [
    "from sklearn.model_selection import train_test_split,KFold\n",
    "X_train, X_test, y_train, y_test = train_test_split(data, y, test_size = 0.1, random_state = 42)"
   ],
   "metadata": {
    "id": "S0vJhB2x02LE",
    "executionInfo": {
     "status": "ok",
     "timestamp": 1641652555320,
     "user_tz": -420,
     "elapsed": 326,
     "user": {
      "displayName": "Thọ Trần",
      "photoUrl": "https://lh3.googleusercontent.com/a/default-user=s64",
      "userId": "09309455569270955237"
     }
    }
   },
   "execution_count": 101,
   "outputs": []
  },
  {
   "cell_type": "code",
   "source": [
    "import pandas as pd\n",
    "X_array= pd.DataFrame(X_train).to_numpy()\n",
    "y_array=pd.DataFrame(y_train).to_numpy()"
   ],
   "metadata": {
    "id": "0spxswUE5xAz",
    "executionInfo": {
     "status": "ok",
     "timestamp": 1641652556576,
     "user_tz": -420,
     "elapsed": 2,
     "user": {
      "displayName": "Thọ Trần",
      "photoUrl": "https://lh3.googleusercontent.com/a/default-user=s64",
      "userId": "09309455569270955237"
     }
    }
   },
   "execution_count": 102,
   "outputs": []
  },
  {
   "cell_type": "code",
   "source": [
    "kf = KFold(n_splits=10)\n",
    "kf.get_n_splits(X_train)\n",
    "\n",
    "from sklearn.metrics import r2_score,mean_squared_error,mean_absolute_error\n",
    "from sklearn.ensemble import RandomForestRegressor\n",
    "from sklearn.datasets import make_regression\n",
    "trees = [10,50,100,250,500,1000,1500]\n",
    "scores = []\n",
    "for tree in trees:\n",
    "    print(\"Index: \", trees.index(tree))\n",
    "    sc = 0\n",
    "\n",
    "    for train_index, test_index in kf.split(X_array):\n",
    "        X_trainf, X_testf = X_array[train_index], X_array[test_index]\n",
    "        y_trainf, y_testf = y_array[train_index], y_array[test_index]\n",
    "        regr = RandomForestRegressor(n_estimators=tree , random_state=0)\n",
    "        regr.fit(X_trainf,y_trainf)\n",
    "        y_predict=regr.predict(X_testf)\n",
    "        sc += mean_absolute_error(y_testf,y_predict)\n",
    "    scores.append(sc / 10)\n",
    "    clear_output()\n",
    "    print(\"Done index: \", trees.index(tree))\n",
    "\n"
   ],
   "metadata": {
    "colab": {
     "base_uri": "https://localhost:8080/"
    },
    "id": "_BQW7Kd76Cpl",
    "executionInfo": {
     "status": "ok",
     "timestamp": 1641653220955,
     "user_tz": -420,
     "elapsed": 64814,
     "user": {
      "displayName": "Thọ Trần",
      "photoUrl": "https://lh3.googleusercontent.com/a/default-user=s64",
      "userId": "09309455569270955237"
     }
    },
    "outputId": "880c1333-e5fa-4f2b-a0bc-7e53674daee7"
   },
   "execution_count": 116,
   "outputs": [
    {
     "output_type": "stream",
     "name": "stdout",
     "text": [
      "Done index:  6\n"
     ]
    }
   ]
  },
  {
   "cell_type": "code",
   "source": [
    "plt.plot(trees,scores)"
   ],
   "metadata": {
    "colab": {
     "base_uri": "https://localhost:8080/",
     "height": 294
    },
    "id": "EkwjQfxk-NEM",
    "executionInfo": {
     "status": "ok",
     "timestamp": 1641653264776,
     "user_tz": -420,
     "elapsed": 547,
     "user": {
      "displayName": "Thọ Trần",
      "photoUrl": "https://lh3.googleusercontent.com/a/default-user=s64",
      "userId": "09309455569270955237"
     }
    },
    "outputId": "57fbe2c9-9e20-4ba2-bf0c-5ff648da04bf"
   },
   "execution_count": 117,
   "outputs": [
    {
     "output_type": "execute_result",
     "data": {
      "text/plain": [
       "[<matplotlib.lines.Line2D at 0x7f53d370d950>]"
      ]
     },
     "metadata": {},
     "execution_count": 117
    },
    {
     "output_type": "display_data",
     "data": {
      "image/png": "[encoded data removed]",
      "text/plain": [
       "<Figure size 432x288 with 1 Axes>"
      ]
     },
     "metadata": {
      "needs_background": "light"
     }
    }
   ]
  },
  {
   "cell_type": "code",
   "source": [
    "regr = RandomForestRegressor(n_estimators=1700 , random_state=0)\n",
    "regr.fit(data,y)\n",
    "y_predict=regr.predict(X_test)\n",
    "print(mean_squared_error(y_test,y_predict))"
   ],
   "metadata": {
    "colab": {
     "base_uri": "https://localhost:8080/"
    },
    "id": "uJTfOhDn7Ots",
    "executionInfo": {
     "status": "ok",
     "timestamp": 1641653580882,
     "user_tz": -420,
     "elapsed": 3752,
     "user": {
      "displayName": "Thọ Trần",
      "photoUrl": "https://lh3.googleusercontent.com/a/default-user=s64",
      "userId": "09309455569270955237"
     }
    },
    "outputId": "ae4f6ff4-67c9-497f-a90d-f26d0b65acf3"
   },
   "execution_count": 128,
   "outputs": [
    {
     "output_type": "stream",
     "name": "stdout",
     "text": [
      "36654885219603.18\n"
     ]
    }
   ]
  },
  {
   "cell_type": "code",
   "source": [
    "X_train"
   ],
   "metadata": {
    "colab": {
     "base_uri": "https://localhost:8080/",
     "height": 423
    },
    "id": "dDZDmnNBFWTa",
    "executionInfo": {
     "status": "ok",
     "timestamp": 1641652312401,
     "user_tz": -420,
     "elapsed": 329,
     "user": {
      "displayName": "Thọ Trần",
      "photoUrl": "https://lh3.googleusercontent.com/a/default-user=s64",
      "userId": "09309455569270955237"
     }
    },
    "outputId": "cd4e533a-bcee-48bf-b0e6-3801fde950f9"
   },
   "execution_count": 96,
   "outputs": [
    {
     "output_type": "execute_result",
     "data": {
      "text/html": [
       "\n",
       "  <div id=\"df-ced9c856-be6b-4b25-bb0d-bc385510e75a\">\n",
       "    <div class=\"colab-df-container\">\n",
       "      <div>\n",
       "<style scoped>\n",
       "    .dataframe tbody tr th:only-of-type {\n",
       "        vertical-align: middle;\n",
       "    }\n",
       "\n",
       "    .dataframe tbody tr th {\n",
       "        vertical-align: top;\n",
       "    }\n",
       "\n",
       "    .dataframe thead th {\n",
       "        text-align: right;\n",
       "    }\n",
       "</style>\n",
       "<table border=\"1\" class=\"dataframe\">\n",
       "  <thead>\n",
       "    <tr style=\"text-align: right;\">\n",
       "      <th></th>\n",
       "      <th>Ram</th>\n",
       "      <th>VRAM</th>\n",
       "      <th>Size Display</th>\n",
       "      <th>X_res</th>\n",
       "      <th>Y_res</th>\n",
       "      <th>ssd</th>\n",
       "      <th>hdd</th>\n",
       "    </tr>\n",
       "  </thead>\n",
       "  <tbody>\n",
       "    <tr>\n",
       "      <th>954</th>\n",
       "      <td>8</td>\n",
       "      <td>0.0</td>\n",
       "      <td>14.0</td>\n",
       "      <td>1920</td>\n",
       "      <td>1080</td>\n",
       "      <td>1024</td>\n",
       "      <td>0</td>\n",
       "    </tr>\n",
       "    <tr>\n",
       "      <th>390</th>\n",
       "      <td>8</td>\n",
       "      <td>4.0</td>\n",
       "      <td>15.6</td>\n",
       "      <td>1920</td>\n",
       "      <td>1080</td>\n",
       "      <td>512</td>\n",
       "      <td>0</td>\n",
       "    </tr>\n",
       "    <tr>\n",
       "      <th>806</th>\n",
       "      <td>8</td>\n",
       "      <td>0.0</td>\n",
       "      <td>13.3</td>\n",
       "      <td>2560</td>\n",
       "      <td>1600</td>\n",
       "      <td>512</td>\n",
       "      <td>0</td>\n",
       "    </tr>\n",
       "    <tr>\n",
       "      <th>976</th>\n",
       "      <td>8</td>\n",
       "      <td>0.0</td>\n",
       "      <td>15.6</td>\n",
       "      <td>1920</td>\n",
       "      <td>1080</td>\n",
       "      <td>512</td>\n",
       "      <td>0</td>\n",
       "    </tr>\n",
       "    <tr>\n",
       "      <th>163</th>\n",
       "      <td>16</td>\n",
       "      <td>8.0</td>\n",
       "      <td>15.6</td>\n",
       "      <td>2560</td>\n",
       "      <td>1440</td>\n",
       "      <td>1024</td>\n",
       "      <td>0</td>\n",
       "    </tr>\n",
       "    <tr>\n",
       "      <th>...</th>\n",
       "      <td>...</td>\n",
       "      <td>...</td>\n",
       "      <td>...</td>\n",
       "      <td>...</td>\n",
       "      <td>...</td>\n",
       "      <td>...</td>\n",
       "      <td>...</td>\n",
       "    </tr>\n",
       "    <tr>\n",
       "      <th>1051</th>\n",
       "      <td>8</td>\n",
       "      <td>0.0</td>\n",
       "      <td>13.3</td>\n",
       "      <td>2560</td>\n",
       "      <td>1600</td>\n",
       "      <td>512</td>\n",
       "      <td>0</td>\n",
       "    </tr>\n",
       "    <tr>\n",
       "      <th>1103</th>\n",
       "      <td>16</td>\n",
       "      <td>0.0</td>\n",
       "      <td>13.3</td>\n",
       "      <td>1920</td>\n",
       "      <td>1080</td>\n",
       "      <td>1024</td>\n",
       "      <td>0</td>\n",
       "    </tr>\n",
       "    <tr>\n",
       "      <th>1140</th>\n",
       "      <td>4</td>\n",
       "      <td>0.0</td>\n",
       "      <td>13.3</td>\n",
       "      <td>2560</td>\n",
       "      <td>1600</td>\n",
       "      <td>256</td>\n",
       "      <td>0</td>\n",
       "    </tr>\n",
       "    <tr>\n",
       "      <th>865</th>\n",
       "      <td>8</td>\n",
       "      <td>0.0</td>\n",
       "      <td>15.6</td>\n",
       "      <td>1920</td>\n",
       "      <td>1080</td>\n",
       "      <td>512</td>\n",
       "      <td>0</td>\n",
       "    </tr>\n",
       "    <tr>\n",
       "      <th>1136</th>\n",
       "      <td>8</td>\n",
       "      <td>0.0</td>\n",
       "      <td>13.3</td>\n",
       "      <td>2560</td>\n",
       "      <td>1600</td>\n",
       "      <td>512</td>\n",
       "      <td>0</td>\n",
       "    </tr>\n",
       "  </tbody>\n",
       "</table>\n",
       "<p>1060 rows × 7 columns</p>\n",
       "</div>\n",
       "      <button class=\"colab-df-convert\" onclick=\"convertToInteractive('df-ced9c856-be6b-4b25-bb0d-bc385510e75a')\"\n",
       "              title=\"Convert this dataframe to an interactive table.\"\n",
       "              style=\"display:none;\">\n",
       "        \n",
       "  <svg xmlns=\"http://www.w3.org/2000/svg\" height=\"24px\"viewBox=\"0 0 24 24\"\n",
       "       width=\"24px\">\n",
       "    <path d=\"M0 0h24v24H0V0z\" fill=\"none\"/>\n",
       "    <path d=\"M18.56 5.44l.94 2.06.94-2.06 2.06-.94-2.06-.94-.94-2.06-.94 2.06-2.06.94zm-11 1L8.5 8.5l.94-2.06 2.06-.94-2.06-.94L8.5 2.5l-.94 2.06-2.06.94zm10 10l.94 2.06.94-2.06 2.06-.94-2.06-.94-.94-2.06-.94 2.06-2.06.94z\"/><path d=\"M17.41 7.96l-1.37-1.37c-.4-.4-.92-.59-1.43-.59-.52 0-1.04.2-1.43.59L10.3 9.45l-7.72 7.72c-.78.78-.78 2.05 0 2.83L4 21.41c.39.39.9.59 1.41.59.51 0 1.02-.2 1.41-.59l7.78-7.78 2.81-2.81c.8-.78.8-2.07 0-2.86zM5.41 20L4 18.59l7.72-7.72 1.47 1.35L5.41 20z\"/>\n",
       "  </svg>\n",
       "      </button>\n",
       "      \n",
       "  <style>\n",
       "    .colab-df-container {\n",
       "      display:flex;\n",
       "      flex-wrap:wrap;\n",
       "      gap: 12px;\n",
       "    }\n",
       "\n",
       "    .colab-df-convert {\n",
       "      background-color: #E8F0FE;\n",
       "      border: none;\n",
       "      border-radius: 50%;\n",
       "      cursor: pointer;\n",
       "      display: none;\n",
       "      fill: #1967D2;\n",
       "      height: 32px;\n",
       "      padding: 0 0 0 0;\n",
       "      width: 32px;\n",
       "    }\n",
       "\n",
       "    .colab-df-convert:hover {\n",
       "      background-color: #E2EBFA;\n",
       "      box-shadow: 0px 1px 2px rgba(60, 64, 67, 0.3), 0px 1px 3px 1px rgba(60, 64, 67, 0.15);\n",
       "      fill: #174EA6;\n",
       "    }\n",
       "\n",
       "    [theme=dark] .colab-df-convert {\n",
       "      background-color: #3B4455;\n",
       "      fill: #D2E3FC;\n",
       "    }\n",
       "\n",
       "    [theme=dark] .colab-df-convert:hover {\n",
       "      background-color: #434B5C;\n",
       "      box-shadow: 0px 1px 3px 1px rgba(0, 0, 0, 0.15);\n",
       "      filter: drop-shadow(0px 1px 2px rgba(0, 0, 0, 0.3));\n",
       "      fill: #FFFFFF;\n",
       "    }\n",
       "  </style>\n",
       "\n",
       "      <script>\n",
       "        const buttonEl =\n",
       "          document.querySelector('#df-ced9c856-be6b-4b25-bb0d-bc385510e75a button.colab-df-convert');\n",
       "        buttonEl.style.display =\n",
       "          google.colab.kernel.accessAllowed ? 'block' : 'none';\n",
       "\n",
       "        async function convertToInteractive(key) {\n",
       "          const element = document.querySelector('#df-ced9c856-be6b-4b25-bb0d-bc385510e75a');\n",
       "          const dataTable =\n",
       "            await google.colab.kernel.invokeFunction('convertToInteractive',\n",
       "                                                     [key], {});\n",
       "          if (!dataTable) return;\n",
       "\n",
       "          const docLinkHtml = 'Like what you see? Visit the ' +\n",
       "            '<a target=\"_blank\" href=https://colab.research.google.com/notebooks/data_table.ipynb>data table notebook</a>'\n",
       "            + ' to learn more about interactive tables.';\n",
       "          element.innerHTML = '';\n",
       "          dataTable['output_type'] = 'display_data';\n",
       "          await google.colab.output.renderOutput(dataTable, element);\n",
       "          const docLink = document.createElement('div');\n",
       "          docLink.innerHTML = docLinkHtml;\n",
       "          element.appendChild(docLink);\n",
       "        }\n",
       "      </script>\n",
       "    </div>\n",
       "  </div>\n",
       "  "
      ],
      "text/plain": [
       "      Ram  VRAM  Size Display  X_res  Y_res   ssd  hdd\n",
       "954     8   0.0          14.0   1920   1080  1024    0\n",
       "390     8   4.0          15.6   1920   1080   512    0\n",
       "806     8   0.0          13.3   2560   1600   512    0\n",
       "976     8   0.0          15.6   1920   1080   512    0\n",
       "163    16   8.0          15.6   2560   1440  1024    0\n",
       "...   ...   ...           ...    ...    ...   ...  ...\n",
       "1051    8   0.0          13.3   2560   1600   512    0\n",
       "1103   16   0.0          13.3   1920   1080  1024    0\n",
       "1140    4   0.0          13.3   2560   1600   256    0\n",
       "865     8   0.0          15.6   1920   1080   512    0\n",
       "1136    8   0.0          13.3   2560   1600   512    0\n",
       "\n",
       "[1060 rows x 7 columns]"
      ]
     },
     "metadata": {},
     "execution_count": 96
    }
   ]
  },
  {
   "cell_type": "code",
   "source": [
    "import pickle\n",
    "%cd '/content/drive/MyDrive/khoa học dữ liệu'\n",
    "filename = 'Laptop.sav'\n",
    "pickle.dump(regr, open(filename, 'wb'))"
   ],
   "metadata": {
    "colab": {
     "base_uri": "https://localhost:8080/"
    },
    "id": "dav-dEGQE1h7",
    "executionInfo": {
     "status": "ok",
     "timestamp": 1641653823828,
     "user_tz": -420,
     "elapsed": 820,
     "user": {
      "displayName": "Thọ Trần",
      "photoUrl": "https://lh3.googleusercontent.com/a/default-user=s64",
      "userId": "09309455569270955237"
     }
    },
    "outputId": "4a174aeb-6724-431d-fe24-2e642fb7a713"
   },
   "execution_count": 132,
   "outputs": [
    {
     "output_type": "stream",
     "name": "stdout",
     "text": [
      "/content/drive/MyDrive/khoa học dữ liệu\n"
     ]
    }
   ]
  },
  {
   "cell_type": "code",
   "source": [
    "filename = 'Laptop.sav'\n",
    "loaded_model = pickle.load(open(filename, 'rb'))\n",
    "y_predict=loaded_model.predict(X_test)\n",
    "print(mean_squared_error(y_test,y_predict))"
   ],
   "metadata": {
    "colab": {
     "base_uri": "https://localhost:8080/"
    },
    "id": "WaFGOrnIMa81",
    "executionInfo": {
     "status": "ok",
     "timestamp": 1641653886413,
     "user_tz": -420,
     "elapsed": 796,
     "user": {
      "displayName": "Thọ Trần",
      "photoUrl": "https://lh3.googleusercontent.com/a/default-user=s64",
      "userId": "09309455569270955237"
     }
    },
    "outputId": "f1eb604c-b505-477f-b060-aeabd92ac4e8"
   },
   "execution_count": 133,
   "outputs": [
    {
     "output_type": "stream",
     "name": "stdout",
     "text": [
      "36654885219603.18\n"
     ]
    }
   ]
  }
 ]
}